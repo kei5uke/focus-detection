{
 "cells": [
  {
   "cell_type": "code",
   "execution_count": 1,
   "metadata": {},
   "outputs": [],
   "source": [
    "import tensorflow as tf\n",
    "from tensorflow import keras\n",
    "import pandas as pd\n",
    "import numpy as np\n",
    "from scipy import stats\n",
    "gpu_devices = tf.config.experimental.list_physical_devices(\"GPU\")\n",
    "for device in gpu_devices:\n",
    "    tf.config.experimental.set_memory_growth(device, True)"
   ]
  },
  {
   "cell_type": "code",
   "execution_count": 2,
   "metadata": {},
   "outputs": [],
   "source": [
    "df1 = pd.read_csv('../csv/keisuke1.csv',header=0)\n",
    "df2 = pd.read_csv('../csv/keisuke2.csv',header=0)\n",
    "df3 = pd.read_csv('../csv/keisuke3.csv',header=0)\n",
    "df4 = pd.read_csv('../csv/keisuke4.csv',header=0)"
   ]
  },
  {
   "cell_type": "code",
   "execution_count": 3,
   "metadata": {},
   "outputs": [],
   "source": [
    "df1 = df1.drop(df1[df1.STATE==1].index)\n",
    "df2 = df2.drop(df2[df2.STATE==1].index)\n",
    "df3 = df3.drop(df3[df3.STATE==1].index)\n",
    "df4 = df4.drop(df4[df4.STATE==1].index)"
   ]
  },
  {
   "cell_type": "code",
   "execution_count": 4,
   "metadata": {},
   "outputs": [
    {
     "data": {
      "text/html": [
       "<div>\n",
       "<style scoped>\n",
       "    .dataframe tbody tr th:only-of-type {\n",
       "        vertical-align: middle;\n",
       "    }\n",
       "\n",
       "    .dataframe tbody tr th {\n",
       "        vertical-align: top;\n",
       "    }\n",
       "\n",
       "    .dataframe thead th {\n",
       "        text-align: right;\n",
       "    }\n",
       "</style>\n",
       "<table border=\"1\" class=\"dataframe\">\n",
       "  <thead>\n",
       "    <tr style=\"text-align: right;\">\n",
       "      <th></th>\n",
       "      <th>SEC</th>\n",
       "      <th>GSR</th>\n",
       "      <th>STATE</th>\n",
       "    </tr>\n",
       "  </thead>\n",
       "  <tbody>\n",
       "    <tr>\n",
       "      <th>60</th>\n",
       "      <td>60</td>\n",
       "      <td>384</td>\n",
       "      <td>2</td>\n",
       "    </tr>\n",
       "    <tr>\n",
       "      <th>61</th>\n",
       "      <td>61</td>\n",
       "      <td>389</td>\n",
       "      <td>2</td>\n",
       "    </tr>\n",
       "    <tr>\n",
       "      <th>62</th>\n",
       "      <td>62</td>\n",
       "      <td>395</td>\n",
       "      <td>2</td>\n",
       "    </tr>\n",
       "    <tr>\n",
       "      <th>63</th>\n",
       "      <td>63</td>\n",
       "      <td>384</td>\n",
       "      <td>2</td>\n",
       "    </tr>\n",
       "    <tr>\n",
       "      <th>64</th>\n",
       "      <td>64</td>\n",
       "      <td>366</td>\n",
       "      <td>2</td>\n",
       "    </tr>\n",
       "  </tbody>\n",
       "</table>\n",
       "</div>"
      ],
      "text/plain": [
       "    SEC  GSR  STATE\n",
       "60   60  384      2\n",
       "61   61  389      2\n",
       "62   62  395      2\n",
       "63   63  384      2\n",
       "64   64  366      2"
      ]
     },
     "execution_count": 4,
     "metadata": {},
     "output_type": "execute_result"
    }
   ],
   "source": [
    "df1.head()"
   ]
  },
  {
   "cell_type": "code",
   "execution_count": 25,
   "metadata": {},
   "outputs": [],
   "source": [
    "def create_data(X,Y):\n",
    "    time_step=32;\n",
    "    Xs = []\n",
    "    Ys = []\n",
    "#     Ys = np.zeros((X.size-time_step,2))\n",
    "    for i in range(0,X.size-time_step,1):\n",
    "        \n",
    "        tmp = X.iloc[i:(i+time_step)]\n",
    "        \n",
    "        labels = Y.iloc[i:(i+time_step)]\n",
    "        Xs.append(tmp)\n",
    "        \n",
    "        \n",
    "        if stats.mode(labels)[0][0] == 2:\n",
    "            Ys.append((stats.mode(labels)[0][0])-1)\n",
    "        else:\n",
    "            Ys.append((stats.mode(labels)[0][0])-3)\n",
    "        \n",
    "    return np.array(Xs),np.array(Ys).reshape(-1,1)"
   ]
  },
  {
   "cell_type": "code",
   "execution_count": 26,
   "metadata": {},
   "outputs": [
    {
     "name": "stdout",
     "output_type": "stream",
     "text": [
      "(656, 32)\n"
     ]
    }
   ],
   "source": [
    "#TRAIN\n",
    "X_train,Y_train= create_data(df2['GSR'],df2['STATE'])\n",
    "\n",
    "tmp1, tmp2 = create_data(df4['GSR'],df4['STATE'])\n",
    "X_train = np.concatenate((X_train,tmp1),axis=0)\n",
    "print(X_train.shape)\n",
    "Y_train = np.concatenate((Y_train,tmp2),axis=0)\n",
    "\n",
    "X_train = X_train.astype('float32')\n",
    "mean = X_train.mean(axis=0)\n",
    "std = X_train.std(axis=0)\n",
    "X_train -= mean\n",
    "X_train /= std\n",
    "\n",
    "X_train = np.reshape(X_train,[X_train.shape[0],X_train.shape[1],1])\n",
    "#Y_train = np.reshape(Y_train,[1,Y_train.shape[0],Y_train.shape[1]])"
   ]
  },
  {
   "cell_type": "code",
   "execution_count": 7,
   "metadata": {},
   "outputs": [],
   "source": [
    "#VAL\n",
    "X_val, Y_val = create_data(df3['GSR'],df3['STATE'])\n",
    "\n",
    "X_val = X_val.astype('float32')\n",
    "X_val -= mean\n",
    "X_val /= std\n",
    "\n",
    "X_val = np.reshape(X_val,[X_val.shape[0],X_val.shape[1],1])"
   ]
  },
  {
   "cell_type": "code",
   "execution_count": 8,
   "metadata": {},
   "outputs": [],
   "source": [
    "#TEST\n",
    "X_test, Y_test = create_data(df1['GSR'],df1['STATE'])\n",
    "\n",
    "X_test = X_test.astype('float32')\n",
    "X_test -= mean\n",
    "X_test /= std\n",
    "\n",
    "X_test = np.reshape(X_test,[X_test.shape[0],X_test.shape[1],1])\n",
    "#Y_test = np.reshape(Y_test,[1,Y_test.shape[0],Y_test.shape[1]])"
   ]
  },
  {
   "cell_type": "code",
   "execution_count": 9,
   "metadata": {},
   "outputs": [
    {
     "name": "stdout",
     "output_type": "stream",
     "text": [
      "(656, 32, 1) (656, 1) (328, 32, 1) (328, 1) (328, 32, 1) (328, 1)\n"
     ]
    }
   ],
   "source": [
    "print(X_train.shape,Y_train.shape,X_val.shape,Y_val.shape,X_test.shape,Y_test.shape)"
   ]
  },
  {
   "cell_type": "code",
   "execution_count": 12,
   "metadata": {},
   "outputs": [],
   "source": [
    "model = keras.Sequential()"
   ]
  },
  {
   "cell_type": "code",
   "execution_count": 13,
   "metadata": {},
   "outputs": [],
   "source": [
    "model.add(keras.layers.LSTM(8, return_sequences=True, input_shape=(X_train.shape[1],1)))\n",
    "model.add(keras.layers.Dropout(0.5))\n",
    "model.add(keras.layers.Dense(1, activation='sigmoid'))\n",
    "\n",
    "model.compile(loss='binary_crossentropy',\n",
    "              optimizer='adam',\n",
    "             metrics=['acc'])"
   ]
  },
  {
   "cell_type": "code",
   "execution_count": 14,
   "metadata": {},
   "outputs": [
    {
     "name": "stdout",
     "output_type": "stream",
     "text": [
      "Epoch 1/4\n",
      "11/11 [==============================] - 3s 42ms/step - loss: 0.6841 - acc: 0.5671 - val_loss: 0.6822 - val_acc: 0.4965\n",
      "Epoch 2/4\n",
      "11/11 [==============================] - 0s 5ms/step - loss: 0.6774 - acc: 0.5809 - val_loss: 0.6835 - val_acc: 0.4964\n",
      "Epoch 3/4\n",
      "11/11 [==============================] - 0s 5ms/step - loss: 0.6782 - acc: 0.5814 - val_loss: 0.6847 - val_acc: 0.4966\n",
      "Epoch 4/4\n",
      "11/11 [==============================] - 0s 5ms/step - loss: 0.6789 - acc: 0.5780 - val_loss: 0.6860 - val_acc: 0.4968\n"
     ]
    }
   ],
   "source": [
    "history = model.fit(X_train,\n",
    "                   Y_train,\n",
    "                   epochs=4,\n",
    "                    batch_size=64,\n",
    "                    validation_data=(X_val,Y_val),\n",
    "                   shuffle=False)"
   ]
  },
  {
   "cell_type": "code",
   "execution_count": 15,
   "metadata": {},
   "outputs": [
    {
     "data": {
      "image/png": "[encoded data removed]",
      "text/plain": [
       "<Figure size 432x288 with 1 Axes>"
      ]
     },
     "metadata": {
      "needs_background": "light"
     },
     "output_type": "display_data"
    },
    {
     "data": {
      "image/png": "[encoded data removed]",
      "text/plain": [
       "<Figure size 432x288 with 1 Axes>"
      ]
     },
     "metadata": {
      "needs_background": "light"
     },
     "output_type": "display_data"
    }
   ],
   "source": [
    "import matplotlib.pyplot as plt\n",
    "\n",
    "acc = history.history['acc']\n",
    "val_acc = history.history['val_acc']\n",
    "loss = history.history['loss']\n",
    "val_loss = history.history['val_loss']\n",
    "\n",
    "epochs = range(1, len(acc) + 1)\n",
    "\n",
    "plt.plot(epochs, acc, 'bo', label='Training acc')\n",
    "plt.plot(epochs, val_acc, 'b', label='Validation acc')\n",
    "plt.title('Training and validation accuracy')\n",
    "plt.legend()\n",
    "\n",
    "plt.figure()\n",
    "\n",
    "plt.plot(epochs, loss, 'bo', label='Training loss')\n",
    "plt.plot(epochs, val_loss, 'b', label='Validation loss')\n",
    "plt.title('Training and validation loss')\n",
    "plt.legend()\n",
    "\n",
    "plt.show()"
   ]
  },
  {
   "cell_type": "code",
   "execution_count": 16,
   "metadata": {},
   "outputs": [
    {
     "name": "stdout",
     "output_type": "stream",
     "text": [
      "11/11 [==============================] - 0s 1ms/step - loss: 0.6754 - acc: 0.6303\n"
     ]
    },
    {
     "data": {
      "text/plain": [
       "[0.6754345893859863, 0.6303353905677795]"
      ]
     },
     "execution_count": 16,
     "metadata": {},
     "output_type": "execute_result"
    }
   ],
   "source": [
    "model.evaluate(X_test,Y_test)"
   ]
  }
 ],
 "metadata": {
  "kernelspec": {
   "display_name": "Python 3",
   "language": "python",
   "name": "python3"
  },
  "language_info": {
   "codemirror_mode": {
    "name": "ipython",
    "version": 3
   },
   "file_extension": ".py",
   "mimetype": "text/x-python",
   "name": "python",
   "nbconvert_exporter": "python",
   "pygments_lexer": "ipython3",
   "version": "3.8.5"
  }
 },
 "nbformat": 4,
 "nbformat_minor": 4
}
