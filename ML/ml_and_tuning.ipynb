{
 "cells": [
  {
   "cell_type": "code",
   "execution_count": 1,
   "metadata": {},
   "outputs": [],
   "source": [
    "import pandas as pd\n",
    "import numpy as np\n",
    "from scipy import stats\n",
    "\n",
    "from hyperopt import Trials, STATUS_OK, tpe\n",
    "from hyperas import optim\n",
    "from hyperas.distributions import choice\n",
    "\n",
    "import tensorflow as tf\n",
    "from tensorflow import keras\n",
    "from keras.models import Sequential\n",
    "from keras.layers import Dense, Activation, Dropout, LSTM\n",
    "\n",
    "gpu_devices = tf.config.experimental.list_physical_devices(\"GPU\")\n",
    "for device in gpu_devices:\n",
    "    tf.config.experimental.set_memory_growth(device, True)"
   ]
  },
  {
   "cell_type": "code",
   "execution_count": 2,
   "metadata": {},
   "outputs": [],
   "source": [
    "def create_data(X,Y):\n",
    "    time_step=32;\n",
    "    x_train, y_train = [], []\n",
    "    x_test, y_test = [], []\n",
    "\n",
    "    for i in range(0,Y.size-time_step,1):\n",
    "        labels = Y.iloc[i:(i+time_step)]\n",
    "        mode = stats.mode(labels)[0][0]\n",
    "        if mode == 2 :\n",
    "            y_train.append(1)\n",
    "        if mode == 3 :\n",
    "            y_train.append(0)\n",
    "        if mode == 4:\n",
    "            y_test.append(1)\n",
    "        if mdoe == 5:\n",
    "            y_test.append(0)\n",
    "    \n",
    "    for i in range(0,len(y_train)-time_step,1):\n",
    "        tmp = X.iloc[i:(i+time_step)]\n",
    "        x_train.append(tmp)\n",
    "    for i in range(len(y_train),len(y_test)-time_step,1):\n",
    "        tmp = X.iloc[i:(i+time_step)]\n",
    "        x_test.append(tmp)\n",
    "        \n",
    "    return np.array(x_train), np.array(y_train).reshape(-1,1), np.array(x_test), np.array(y_test).reshape(-1,1)"
   ]
  },
  {
   "cell_type": "code",
   "execution_count": null,
   "metadata": {},
   "outputs": [],
   "source": [
    "def data():\n",
    "    df = pd.read_csv('../csv/gsr_record.csv',header=0)#change file name later\n",
    "    df = df.drop(df[df.STATE==1].index)\n",
    "    x_train, y_train, x_test, y_test = create_data(df['GSR'],df['STATE'])\n",
    "    \n",
    "    return x_train, y_train, x_test, y_test"
   ]
  },
  {
   "cell_type": "code",
   "execution_count": 3,
   "metadata": {},
   "outputs": [],
   "source": [
    "def model(x_train, y_train, x_test, y_test):\n",
    "    model = Sequential()\n",
    "    model.add(LSTM({{choice([8,16,32])}}, input_shape=(X_train.shape[1],1),return_sequences=True))\n",
    "    model.add(Dropout({{uniform(0,1)}}))\n",
    "    model.add(Dense(1, activation='sigmoid'))\n",
    "\n",
    "    model.compile(loss='binary_crossentropy',\n",
    "                  optimizer='adam',\n",
    "                  metrics=['acc'])\n",
    "    model.fit(x_train,\n",
    "              y_train,\n",
    "              epochs={{choice([16,32,64])}},\n",
    "              batch_size={{choice([32,64,128])}},\n",
    "              validation_data=(x_test,y_test),\n",
    "              shuffle=False)\n",
    "    val_loss, val_acc = model.evaluate(x_test, y_test, verbose=0)\n",
    "    return {'loss': -val_acc, 'status': STATUS_OK, 'model': model}"
   ]
  },
  {
   "cell_type": "code",
   "execution_count": 4,
   "metadata": {},
   "outputs": [
    {
     "ename": "NameError",
     "evalue": "name 'data' is not defined",
     "output_type": "error",
     "traceback": [
      "\u001b[0;31m---------------------------------------------------------------------------\u001b[0m",
      "\u001b[0;31mNameError\u001b[0m                                 Traceback (most recent call last)",
      "\u001b[0;32m<ipython-input-4-1ff9f63866bb>\u001b[0m in \u001b[0;36m<module>\u001b[0;34m\u001b[0m\n\u001b[1;32m      1\u001b[0m \u001b[0;32mif\u001b[0m \u001b[0m__name__\u001b[0m \u001b[0;34m==\u001b[0m \u001b[0;34m\"__main__\"\u001b[0m\u001b[0;34m:\u001b[0m\u001b[0;34m\u001b[0m\u001b[0;34m\u001b[0m\u001b[0m\n\u001b[1;32m      2\u001b[0m     best_run, best_model = optim.minimize(model=model,\n\u001b[0;32m----> 3\u001b[0;31m                                           \u001b[0mdata\u001b[0m\u001b[0;34m=\u001b[0m\u001b[0mdata\u001b[0m\u001b[0;34m,\u001b[0m\u001b[0;34m\u001b[0m\u001b[0;34m\u001b[0m\u001b[0m\n\u001b[0m\u001b[1;32m      4\u001b[0m                                           \u001b[0malgo\u001b[0m\u001b[0;34m=\u001b[0m\u001b[0mtpe\u001b[0m\u001b[0;34m.\u001b[0m\u001b[0msuggest\u001b[0m\u001b[0;34m,\u001b[0m\u001b[0;34m\u001b[0m\u001b[0;34m\u001b[0m\u001b[0m\n\u001b[1;32m      5\u001b[0m                                           \u001b[0mmax_evals\u001b[0m\u001b[0;34m=\u001b[0m\u001b[0;36m5\u001b[0m\u001b[0;34m,\u001b[0m\u001b[0;34m\u001b[0m\u001b[0;34m\u001b[0m\u001b[0m\n",
      "\u001b[0;31mNameError\u001b[0m: name 'data' is not defined"
     ]
    }
   ],
   "source": [
    "if __name__ == \"__main__\":\n",
    "    best_run, best_model = optim.minimize(model=model,\n",
    "                                          data=data,\n",
    "                                          algo=tpe.suggest,\n",
    "                                          max_evals=5,\n",
    "                                          trials=Trials())\n",
    "\n",
    "    print(best_model.summary())\n",
    "    print(best_run)\n",
    "\n",
    "    x_train, y_train, x_test, y_test = prepare_data()\n",
    "    val_loss, val_acc = best_model.evaluate(x_test, y_test)\n",
    "    print(\"val_loss: \", val_loss)\n",
    "    print(\"val_acc: \", val_acc)"
   ]
  },
  {
   "cell_type": "code",
   "execution_count": null,
   "metadata": {},
   "outputs": [],
   "source": []
  }
 ],
 "metadata": {
  "kernelspec": {
   "display_name": "Python 3",
   "language": "python",
   "name": "python3"
  },
  "language_info": {
   "codemirror_mode": {
    "name": "ipython",
    "version": 3
   },
   "file_extension": ".py",
   "mimetype": "text/x-python",
   "name": "python",
   "nbconvert_exporter": "python",
   "pygments_lexer": "ipython3",
   "version": "3.8.5"
  }
 },
 "nbformat": 4,
 "nbformat_minor": 4
}
