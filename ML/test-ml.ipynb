{
 "cells": [
  {
   "cell_type": "code",
   "execution_count": 1,
   "metadata": {},
   "outputs": [],
   "source": [
    "import tensorflow as tf\n",
    "from tensorflow import keras\n",
    "import pandas as pd\n",
    "import numpy as np\n",
    "from scipy import stats\n",
    "gpu_devices = tf.config.experimental.list_physical_devices(\"GPU\")\n",
    "for device in gpu_devices:\n",
    "    tf.config.experimental.set_memory_growth(device, True)"
   ]
  },
  {
   "cell_type": "code",
   "execution_count": 2,
   "metadata": {},
   "outputs": [],
   "source": [
    "df1 = pd.read_csv('../csv/keisuke1.csv',header=0)\n",
    "df2 = pd.read_csv('../csv/keisuke2.csv',header=0)\n",
    "df3 = pd.read_csv('../csv/keisuke3.csv',header=0)\n",
    "df4 = pd.read_csv('../csv/keisuke4.csv',header=0)"
   ]
  },
  {
   "cell_type": "code",
   "execution_count": 3,
   "metadata": {},
   "outputs": [],
   "source": [
    "df1 = df1.drop(df1[df1.STATE==1].index)\n",
    "df2 = df2.drop(df2[df2.STATE==1].index)\n",
    "df3 = df3.drop(df3[df3.STATE==1].index)\n",
    "df4 = df4.drop(df4[df4.STATE==1].index)"
   ]
  },
  {
   "cell_type": "code",
   "execution_count": 4,
   "metadata": {},
   "outputs": [
    {
     "data": {
      "text/html": [
       "<div>\n",
       "<style scoped>\n",
       "    .dataframe tbody tr th:only-of-type {\n",
       "        vertical-align: middle;\n",
       "    }\n",
       "\n",
       "    .dataframe tbody tr th {\n",
       "        vertical-align: top;\n",
       "    }\n",
       "\n",
       "    .dataframe thead th {\n",
       "        text-align: right;\n",
       "    }\n",
       "</style>\n",
       "<table border=\"1\" class=\"dataframe\">\n",
       "  <thead>\n",
       "    <tr style=\"text-align: right;\">\n",
       "      <th></th>\n",
       "      <th>SEC</th>\n",
       "      <th>GSR</th>\n",
       "      <th>STATE</th>\n",
       "    </tr>\n",
       "  </thead>\n",
       "  <tbody>\n",
       "    <tr>\n",
       "      <th>60</th>\n",
       "      <td>60</td>\n",
       "      <td>384</td>\n",
       "      <td>2</td>\n",
       "    </tr>\n",
       "    <tr>\n",
       "      <th>61</th>\n",
       "      <td>61</td>\n",
       "      <td>389</td>\n",
       "      <td>2</td>\n",
       "    </tr>\n",
       "    <tr>\n",
       "      <th>62</th>\n",
       "      <td>62</td>\n",
       "      <td>395</td>\n",
       "      <td>2</td>\n",
       "    </tr>\n",
       "    <tr>\n",
       "      <th>63</th>\n",
       "      <td>63</td>\n",
       "      <td>384</td>\n",
       "      <td>2</td>\n",
       "    </tr>\n",
       "    <tr>\n",
       "      <th>64</th>\n",
       "      <td>64</td>\n",
       "      <td>366</td>\n",
       "      <td>2</td>\n",
       "    </tr>\n",
       "  </tbody>\n",
       "</table>\n",
       "</div>"
      ],
      "text/plain": [
       "    SEC  GSR  STATE\n",
       "60   60  384      2\n",
       "61   61  389      2\n",
       "62   62  395      2\n",
       "63   63  384      2\n",
       "64   64  366      2"
      ]
     },
     "execution_count": 4,
     "metadata": {},
     "output_type": "execute_result"
    }
   ],
   "source": [
    "df1.head()"
   ]
  },
  {
   "cell_type": "code",
   "execution_count": 5,
   "metadata": {},
   "outputs": [],
   "source": [
    "def create_data(X,Y):\n",
    "    time_step=10;\n",
    "    Xs = []\n",
    "    Ys = []\n",
    "#     Ys = np.zeros((X.size-time_step,2))\n",
    "    for i in range(0,X.size-time_step,1):\n",
    "        tmp = X.iloc[i:(i+time_step)]\n",
    "        labels = Y.iloc[i:(i+time_step)]\n",
    "        Xs.append(tmp)\n",
    "        Ys.append((stats.mode(labels)[0][0])-2)\n",
    "#         if stats.mode(labels)[0][0] == 2:\n",
    "#             Ys[i][0] = 1\n",
    "#         else:\n",
    "#             Ys[i][1] = 1\n",
    "        \n",
    "    return np.array(Xs),np.array(Ys).reshape(-1,1)"
   ]
  },
  {
   "cell_type": "code",
   "execution_count": 6,
   "metadata": {},
   "outputs": [],
   "source": [
    "#TRAIN\n",
    "X_train,Y_train= create_data(df1['GSR'],df1['STATE'])\n",
    "tmp1, tmp2 = create_data(df2['GSR'],df2['STATE'])\n",
    "X_train = np.concatenate((X_train,tmp1),axis=0)\n",
    "Y_train = np.concatenate((Y_train,tmp2),axis=0)\n",
    "tmp1, tmp2 = create_data(df3['GSR'],df3['STATE'])\n",
    "X_train = np.concatenate((X_train,tmp1),axis=0)\n",
    "Y_train = np.concatenate((Y_train,tmp2),axis=0)\n",
    "\n",
    "X_train = np.reshape(X_train,[X_train.shape[0],X_train.shape[1],1])\n",
    "#Y_train = np.reshape(Y_train,[1,Y_train.shape[0],Y_train.shape[1]])"
   ]
  },
  {
   "cell_type": "code",
   "execution_count": 7,
   "metadata": {},
   "outputs": [],
   "source": [
    "#TEST\n",
    "X_test, Y_test = create_data(df4['GSR'],df4['STATE'])\n",
    "X_test = np.reshape(X_test,[X_test.shape[0],X_test.shape[1],1])\n",
    "#Y_test = np.reshape(Y_test,[1,Y_test.shape[0],Y_test.shape[1]])"
   ]
  },
  {
   "cell_type": "code",
   "execution_count": 8,
   "metadata": {},
   "outputs": [
    {
     "name": "stdout",
     "output_type": "stream",
     "text": [
      "(1050, 10, 1) (1050, 1)\n"
     ]
    }
   ],
   "source": [
    "print(X_train.shape,Y_train.shape)"
   ]
  },
  {
   "cell_type": "code",
   "execution_count": 9,
   "metadata": {},
   "outputs": [
    {
     "data": {
      "text/plain": [
       "array([[[384],\n",
       "        [389],\n",
       "        [395],\n",
       "        ...,\n",
       "        [346],\n",
       "        [347],\n",
       "        [349]],\n",
       "\n",
       "       [[389],\n",
       "        [395],\n",
       "        [384],\n",
       "        ...,\n",
       "        [347],\n",
       "        [349],\n",
       "        [356]],\n",
       "\n",
       "       [[395],\n",
       "        [384],\n",
       "        [366],\n",
       "        ...,\n",
       "        [349],\n",
       "        [356],\n",
       "        [361]],\n",
       "\n",
       "       ...,\n",
       "\n",
       "       [[325],\n",
       "        [320],\n",
       "        [317],\n",
       "        ...,\n",
       "        [327],\n",
       "        [324],\n",
       "        [319]],\n",
       "\n",
       "       [[320],\n",
       "        [317],\n",
       "        [317],\n",
       "        ...,\n",
       "        [324],\n",
       "        [319],\n",
       "        [316]],\n",
       "\n",
       "       [[317],\n",
       "        [317],\n",
       "        [317],\n",
       "        ...,\n",
       "        [319],\n",
       "        [316],\n",
       "        [313]]])"
      ]
     },
     "execution_count": 9,
     "metadata": {},
     "output_type": "execute_result"
    }
   ],
   "source": [
    "X_train"
   ]
  },
  {
   "cell_type": "code",
   "execution_count": 10,
   "metadata": {},
   "outputs": [
    {
     "data": {
      "text/plain": [
       "array([[0],\n",
       "       [0],\n",
       "       [0],\n",
       "       ...,\n",
       "       [1],\n",
       "       [1],\n",
       "       [1]])"
      ]
     },
     "execution_count": 10,
     "metadata": {},
     "output_type": "execute_result"
    }
   ],
   "source": [
    "Y_train"
   ]
  },
  {
   "cell_type": "code",
   "execution_count": 11,
   "metadata": {},
   "outputs": [],
   "source": [
    "model = keras.Sequential()"
   ]
  },
  {
   "cell_type": "code",
   "execution_count": 12,
   "metadata": {},
   "outputs": [],
   "source": [
    "model.add(keras.layers.LSTM(16, return_sequences=True, input_shape=(10,1)))\n",
    "model.add(keras.layers.Dense(1, activation='sigmoid'))\n",
    "\n",
    "model.compile(loss='binary_crossentropy',\n",
    "              optimizer='adam',\n",
    "             metrics=['acc'])"
   ]
  },
  {
   "cell_type": "code",
   "execution_count": 13,
   "metadata": {},
   "outputs": [
    {
     "name": "stdout",
     "output_type": "stream",
     "text": [
      "Epoch 1/32\n",
      "53/53 [==============================] - 3s 10ms/step - loss: 0.7186 - acc: 0.3170 - val_loss: 0.6641 - val_acc: 0.8286\n",
      "Epoch 2/32\n",
      "53/53 [==============================] - 0s 2ms/step - loss: 0.7111 - acc: 0.3110 - val_loss: 0.6738 - val_acc: 0.7629\n",
      "Epoch 3/32\n",
      "53/53 [==============================] - 0s 2ms/step - loss: 0.7049 - acc: 0.3536 - val_loss: 0.6830 - val_acc: 0.7629\n",
      "Epoch 4/32\n",
      "53/53 [==============================] - 0s 3ms/step - loss: 0.6994 - acc: 0.3487 - val_loss: 0.6919 - val_acc: 0.7629\n",
      "Epoch 5/32\n",
      "53/53 [==============================] - 0s 3ms/step - loss: 0.6944 - acc: 0.3585 - val_loss: 0.7002 - val_acc: 0.1714\n",
      "Epoch 6/32\n",
      "53/53 [==============================] - 0s 3ms/step - loss: 0.6899 - acc: 0.6830 - val_loss: 0.7082 - val_acc: 0.1714\n",
      "Epoch 7/32\n",
      "53/53 [==============================] - 0s 3ms/step - loss: 0.6859 - acc: 0.6830 - val_loss: 0.7157 - val_acc: 0.1714\n",
      "Epoch 8/32\n",
      "53/53 [==============================] - 0s 3ms/step - loss: 0.6822 - acc: 0.6830 - val_loss: 0.7227 - val_acc: 0.1714\n",
      "Epoch 9/32\n",
      "53/53 [==============================] - 0s 3ms/step - loss: 0.6790 - acc: 0.6830 - val_loss: 0.7294 - val_acc: 0.1714\n",
      "Epoch 10/32\n",
      "53/53 [==============================] - 0s 2ms/step - loss: 0.6760 - acc: 0.6830 - val_loss: 0.7357 - val_acc: 0.1714\n",
      "Epoch 11/32\n",
      "53/53 [==============================] - 0s 3ms/step - loss: 0.6733 - acc: 0.6830 - val_loss: 0.7416 - val_acc: 0.1714\n",
      "Epoch 12/32\n",
      "53/53 [==============================] - 0s 3ms/step - loss: 0.6709 - acc: 0.6830 - val_loss: 0.7472 - val_acc: 0.1714\n",
      "Epoch 13/32\n",
      "53/53 [==============================] - 0s 3ms/step - loss: 0.6687 - acc: 0.6830 - val_loss: 0.7524 - val_acc: 0.1714\n",
      "Epoch 14/32\n",
      "53/53 [==============================] - 0s 3ms/step - loss: 0.6668 - acc: 0.6830 - val_loss: 0.7573 - val_acc: 0.1714\n",
      "Epoch 15/32\n",
      "53/53 [==============================] - 0s 3ms/step - loss: 0.6650 - acc: 0.6830 - val_loss: 0.7618 - val_acc: 0.1714\n",
      "Epoch 16/32\n",
      "53/53 [==============================] - 0s 3ms/step - loss: 0.6633 - acc: 0.6830 - val_loss: 0.7661 - val_acc: 0.1714\n",
      "Epoch 17/32\n",
      "53/53 [==============================] - 0s 3ms/step - loss: 0.6618 - acc: 0.6830 - val_loss: 0.7702 - val_acc: 0.1714\n",
      "Epoch 18/32\n",
      "53/53 [==============================] - 0s 3ms/step - loss: 0.6605 - acc: 0.6830 - val_loss: 0.7739 - val_acc: 0.1714\n",
      "Epoch 19/32\n",
      "53/53 [==============================] - 0s 3ms/step - loss: 0.6592 - acc: 0.6830 - val_loss: 0.7774 - val_acc: 0.1714\n",
      "Epoch 20/32\n",
      "53/53 [==============================] - 0s 3ms/step - loss: 0.6581 - acc: 0.6830 - val_loss: 0.7807 - val_acc: 0.1714\n",
      "Epoch 21/32\n",
      "53/53 [==============================] - 0s 3ms/step - loss: 0.6571 - acc: 0.6830 - val_loss: 0.7838 - val_acc: 0.1714\n",
      "Epoch 22/32\n",
      "53/53 [==============================] - 0s 3ms/step - loss: 0.6562 - acc: 0.6830 - val_loss: 0.7866 - val_acc: 0.1714\n",
      "Epoch 23/32\n",
      "53/53 [==============================] - 0s 3ms/step - loss: 0.6553 - acc: 0.6830 - val_loss: 0.7893 - val_acc: 0.1714\n",
      "Epoch 24/32\n",
      "53/53 [==============================] - 0s 3ms/step - loss: 0.6545 - acc: 0.6830 - val_loss: 0.7918 - val_acc: 0.1714\n",
      "Epoch 25/32\n",
      "53/53 [==============================] - 0s 3ms/step - loss: 0.6538 - acc: 0.6830 - val_loss: 0.7941 - val_acc: 0.1714\n",
      "Epoch 26/32\n",
      "53/53 [==============================] - 0s 3ms/step - loss: 0.6531 - acc: 0.6830 - val_loss: 0.7963 - val_acc: 0.1714\n",
      "Epoch 27/32\n",
      "53/53 [==============================] - 0s 3ms/step - loss: 0.6525 - acc: 0.6830 - val_loss: 0.7983 - val_acc: 0.1714\n",
      "Epoch 28/32\n",
      "53/53 [==============================] - 0s 3ms/step - loss: 0.6519 - acc: 0.6830 - val_loss: 0.8002 - val_acc: 0.1714\n",
      "Epoch 29/32\n",
      "53/53 [==============================] - 0s 3ms/step - loss: 0.6514 - acc: 0.6830 - val_loss: 0.8019 - val_acc: 0.1714\n",
      "Epoch 30/32\n",
      "53/53 [==============================] - 0s 3ms/step - loss: 0.6510 - acc: 0.6830 - val_loss: 0.8036 - val_acc: 0.1714\n",
      "Epoch 31/32\n",
      "53/53 [==============================] - 0s 3ms/step - loss: 0.6505 - acc: 0.6830 - val_loss: 0.8051 - val_acc: 0.1714\n",
      "Epoch 32/32\n",
      "53/53 [==============================] - 0s 4ms/step - loss: 0.6501 - acc: 0.6830 - val_loss: 0.8065 - val_acc: 0.1714\n"
     ]
    }
   ],
   "source": [
    "history = model.fit(X_train,\n",
    "                   Y_train,\n",
    "                   epochs=32,\n",
    "                    batch_size=16,\n",
    "                    validation_split=0.2,\n",
    "                   shuffle=False)"
   ]
  },
  {
   "cell_type": "code",
   "execution_count": 14,
   "metadata": {},
   "outputs": [
    {
     "data": {
      "image/png": "[encoded data removed]",
      "text/plain": [
       "<Figure size 432x288 with 1 Axes>"
      ]
     },
     "metadata": {
      "needs_background": "light"
     },
     "output_type": "display_data"
    },
    {
     "data": {
      "image/png": "[encoded data removed]",
      "text/plain": [
       "<Figure size 432x288 with 1 Axes>"
      ]
     },
     "metadata": {
      "needs_background": "light"
     },
     "output_type": "display_data"
    }
   ],
   "source": [
    "import matplotlib.pyplot as plt\n",
    "\n",
    "acc = history.history['acc']\n",
    "val_acc = history.history['val_acc']\n",
    "loss = history.history['loss']\n",
    "val_loss = history.history['val_loss']\n",
    "\n",
    "epochs = range(1, len(acc) + 1)\n",
    "\n",
    "plt.plot(epochs, acc, 'bo', label='Training acc')\n",
    "plt.plot(epochs, val_acc, 'b', label='Validation acc')\n",
    "plt.title('Training and validation accuracy')\n",
    "plt.legend()\n",
    "\n",
    "plt.figure()\n",
    "\n",
    "plt.plot(epochs, loss, 'bo', label='Training loss')\n",
    "plt.plot(epochs, val_loss, 'b', label='Validation loss')\n",
    "plt.title('Training and validation loss')\n",
    "plt.legend()\n",
    "\n",
    "plt.show()"
   ]
  },
  {
   "cell_type": "code",
   "execution_count": 15,
   "metadata": {},
   "outputs": [
    {
     "name": "stdout",
     "output_type": "stream",
     "text": [
      "11/11 [==============================] - 0s 1ms/step - loss: 0.7042 - acc: 0.5029\n"
     ]
    },
    {
     "data": {
      "text/plain": [
       "[0.7041531205177307, 0.5028571486473083]"
      ]
     },
     "execution_count": 15,
     "metadata": {},
     "output_type": "execute_result"
    }
   ],
   "source": [
    "model.evaluate(X_test,Y_test)"
   ]
  },
  {
   "cell_type": "code",
   "execution_count": null,
   "metadata": {},
   "outputs": [],
   "source": []
  }
 ],
 "metadata": {
  "kernelspec": {
   "display_name": "Python 3",
   "language": "python",
   "name": "python3"
  },
  "language_info": {
   "codemirror_mode": {
    "name": "ipython",
    "version": 3
   },
   "file_extension": ".py",
   "mimetype": "text/x-python",
   "name": "python",
   "nbconvert_exporter": "python",
   "pygments_lexer": "ipython3",
   "version": "3.8.5"
  }
 },
 "nbformat": 4,
 "nbformat_minor": 4
}
